{
 "cells": [
  {
   "cell_type": "markdown",
   "id": "d707e277",
   "metadata": {},
   "source": [
    "本笔记是《从零构建大模型》的附录A：PyTorch简介的内容总结和补充。"
   ]
  },
  {
   "cell_type": "markdown",
   "id": "0645dc79",
   "metadata": {},
   "source": [
    "\n",
    "# 1. 什么是PyTorch"
   ]
  },
  {
   "cell_type": "markdown",
   "id": "05693650",
   "metadata": {},
   "source": [
    "\n",
    "## 1.1 PyTorch的三大核心组件\n",
    "PyTorch的三大核心组件包括：\n",
    "1. 张量库（Tensor Lib）：扩展了NumPy的计算基础模块\n",
    "2. 自动微分引擎（Autograd Engine）：作为模型优化的自动微分引擎\n",
    "3. 深度学习库（DL Lib）：提供神经网络构建块、损失函数以及优化器等工具"
   ]
  },
  {
   "cell_type": "markdown",
   "id": "29b71ff3",
   "metadata": {},
   "source": [
    "## 1.2 定义深度学习\n",
    "深度学习专注于实现深度神经网络（深度是指具有多层有关数据特征的表现层），是机器学习的一个子集，而机器学习也只是人工智能的子集。"
   ]
  },
  {
   "cell_type": "markdown",
   "id": "8800b0a5",
   "metadata": {},
   "source": [
    "## 1.3 安装PyTorch\n",
    "PyTorch有两个版本：\n",
    "1. 仅支持CPU计算的精简版\n",
    "2. 同时支持GPU和CPU计算的完整版"
   ]
  },
  {
   "cell_type": "markdown",
   "id": "318351d8",
   "metadata": {},
   "source": [
    "查看PyTorch的版本："
   ]
  },
  {
   "cell_type": "code",
   "execution_count": 1,
   "id": "2cf18555",
   "metadata": {},
   "outputs": [
    {
     "data": {
      "text/plain": [
       "'2.6.0'"
      ]
     },
     "execution_count": 1,
     "metadata": {},
     "output_type": "execute_result"
    }
   ],
   "source": [
    "import torch\n",
    "torch.__version__"
   ]
  },
  {
   "cell_type": "markdown",
   "id": "68fec411",
   "metadata": {},
   "source": [
    "\n",
    "安装了PyTorch之后，检查安装是否是别了内置的NVDIA GPU："
   ]
  },
  {
   "cell_type": "code",
   "execution_count": 2,
   "id": "ed0526a8",
   "metadata": {},
   "outputs": [
    {
     "data": {
      "text/plain": [
       "False"
      ]
     },
     "execution_count": 2,
     "metadata": {},
     "output_type": "execute_result"
    }
   ],
   "source": [
    "import torch\n",
    "torch.cuda.is_available()"
   ]
  },
  {
   "cell_type": "markdown",
   "id": "7456eda4",
   "metadata": {},
   "source": [
    "如果是在Apple Silicon芯片下安装的，可以检查是否支持加速运行："
   ]
  },
  {
   "cell_type": "code",
   "execution_count": 3,
   "id": "f2f0b165",
   "metadata": {},
   "outputs": [
    {
     "data": {
      "text/plain": [
       "True"
      ]
     },
     "execution_count": 3,
     "metadata": {},
     "output_type": "execute_result"
    }
   ],
   "source": [
    "import torch\n",
    "torch.backends.mps.is_available()"
   ]
  },
  {
   "cell_type": "markdown",
   "id": "2d9daa5a",
   "metadata": {},
   "source": [
    "# 2. 理解张量"
   ]
  },
  {
   "cell_type": "markdown",
   "id": "80557d3d",
   "metadata": {},
   "source": [
    "在数学上，张量是一个将标量、向量和矩阵推广到更高维度的概念，它可以通过阶数（又称为秩）来表示，例如，标量是秩为0的张量，向量是1阶张量，矩阵是2阶张量。\n",
    "\n",
    "从计算的角度来看，张量是一种数据容器，可以看做是高维数组。PyTorch中的张量类似于NumPy的NDarray，甚至连大部分API都兼容NumPy数组，但额外为深度学习添加了诸如自动微分的重要功能。"
   ]
  },
  {
   "cell_type": "markdown",
   "id": "72eb771f",
   "metadata": {},
   "source": [
    "## 2.1 标量，向量，矩阵和张量"
   ]
  },
  {
   "cell_type": "code",
   "execution_count": 7,
   "id": "842022e6",
   "metadata": {},
   "outputs": [
    {
     "data": {
      "text/plain": [
       "tensor(1)"
      ]
     },
     "execution_count": 7,
     "metadata": {},
     "output_type": "execute_result"
    }
   ],
   "source": [
    "tensor_0d = torch.tensor(1)\n",
    "tensor_0d"
   ]
  },
  {
   "cell_type": "code",
   "execution_count": 8,
   "id": "20def9f8",
   "metadata": {},
   "outputs": [
    {
     "data": {
      "text/plain": [
       "tensor([1, 2, 3])"
      ]
     },
     "execution_count": 8,
     "metadata": {},
     "output_type": "execute_result"
    }
   ],
   "source": [
    "tensor_1d = torch.tensor([1, 2, 3])\n",
    "tensor_1d"
   ]
  },
  {
   "cell_type": "code",
   "execution_count": 9,
   "id": "ba9487fe",
   "metadata": {},
   "outputs": [
    {
     "data": {
      "text/plain": [
       "tensor([[1, 2],\n",
       "        [3, 4]])"
      ]
     },
     "execution_count": 9,
     "metadata": {},
     "output_type": "execute_result"
    }
   ],
   "source": [
    "tensor_2d = torch.tensor([[1, 2], [3, 4]])\n",
    "tensor_2d"
   ]
  },
  {
   "cell_type": "code",
   "execution_count": 10,
   "id": "4a644c08",
   "metadata": {},
   "outputs": [
    {
     "data": {
      "text/plain": [
       "tensor([[[1, 2],\n",
       "         [3, 4]],\n",
       "\n",
       "        [[5, 6],\n",
       "         [7, 8]]])"
      ]
     },
     "execution_count": 10,
     "metadata": {},
     "output_type": "execute_result"
    }
   ],
   "source": [
    "tensor_3d = torch.tensor([[[1, 2], [3, 4]], [[5, 6], [7, 8]]])\n",
    "tensor_3d"
   ]
  },
  {
   "cell_type": "markdown",
   "id": "2431860b",
   "metadata": {},
   "source": [
    "## 2.2 张量的数据类型\n"
   ]
  },
  {
   "cell_type": "code",
   "execution_count": 13,
   "id": "9cf36f9c",
   "metadata": {},
   "outputs": [
    {
     "data": {
      "text/plain": [
       "torch.int64"
      ]
     },
     "execution_count": 13,
     "metadata": {},
     "output_type": "execute_result"
    }
   ],
   "source": [
    "tensor_1d.dtype"
   ]
  },
  {
   "cell_type": "code",
   "execution_count": 14,
   "id": "752e38f9",
   "metadata": {},
   "outputs": [
    {
     "data": {
      "text/plain": [
       "torch.float32"
      ]
     },
     "execution_count": 14,
     "metadata": {},
     "output_type": "execute_result"
    }
   ],
   "source": [
    "tensor_float = torch.tensor([1.0, 2.0, 3.0])\n",
    "tensor_float.dtype"
   ]
  },
  {
   "cell_type": "markdown",
   "id": "ad0fa815",
   "metadata": {},
   "source": [
    "## 2.3 常见的张量操作\n",
    "\n",
    "常见的张量操作如下：\n",
    "1. 创建张量：`torch.tensor([...])`\n",
    "2. 查看张量的形状：`torch.Tensor.dtype`\n",
    "3. 改变张量的形状：`torch.reshape(<new shape>)` or `torch.view(<new shape>)`\n",
    "4. 张量的转置：`torch.Tensor.transpose` or `torch.Tensor.permute`\n",
    "5. 张量的连续化：`torch.Tensor.is_contiguous` or `torch.Tensor.contiguous`\n",
    "6. 张量的矩阵乘法：`torch.matmul` or `@`"
   ]
  },
  {
   "cell_type": "markdown",
   "id": "24e05fb3",
   "metadata": {},
   "source": [
    "创建张量："
   ]
  },
  {
   "cell_type": "code",
   "execution_count": 208,
   "id": "e465b1a2",
   "metadata": {},
   "outputs": [
    {
     "name": "stdout",
     "output_type": "stream",
     "text": [
      "type of tensor: <class 'torch.Tensor'>\n",
      "tensor: tensor([4, 5, 6])\n"
     ]
    }
   ],
   "source": [
    "tensor = torch.tensor([4, 5, 6])\n",
    "print(f\"type of tensor: {type(tensor)}\")\n",
    "print(f\"tensor: {tensor}\")"
   ]
  },
  {
   "cell_type": "markdown",
   "id": "d6d0d902",
   "metadata": {},
   "source": [
    "查看张量的形状："
   ]
  },
  {
   "cell_type": "code",
   "execution_count": 17,
   "id": "0e701b71",
   "metadata": {},
   "outputs": [
    {
     "name": "stdout",
     "output_type": "stream",
     "text": [
      "tensor_shape's type: <class 'torch.Size'>\n",
      "tensor_shape: torch.Size([2, 2, 2])\n"
     ]
    }
   ],
   "source": [
    "tensor_shape = tensor_3d.shape\n",
    "print(f\"tensor_shape's type: {type(tensor_shape)}\")\n",
    "print(f\"tensor_shape: {tensor_shape}\")"
   ]
  },
  {
   "cell_type": "markdown",
   "id": "3bc56f05",
   "metadata": {},
   "source": [
    "改变张量的形状："
   ]
  },
  {
   "cell_type": "code",
   "execution_count": 22,
   "id": "6afd7038",
   "metadata": {},
   "outputs": [
    {
     "name": "stdout",
     "output_type": "stream",
     "text": [
      "torch.Size([2, 4])\n",
      "tensor([[1, 2, 3, 4],\n",
      "        [5, 6, 7, 8]])\n"
     ]
    }
   ],
   "source": [
    "tensor_reshaped = tensor_3d.reshape(2, 4)\n",
    "print(f\"{tensor_reshaped.shape}\")\n",
    "print(tensor_reshaped)"
   ]
  },
  {
   "cell_type": "code",
   "execution_count": 23,
   "id": "d7872264",
   "metadata": {},
   "outputs": [
    {
     "name": "stdout",
     "output_type": "stream",
     "text": [
      "torch.Size([2, 4])\n",
      "tensor([[1, 2, 3, 4],\n",
      "        [5, 6, 7, 8]])\n"
     ]
    }
   ],
   "source": [
    "tensor_view = tensor_3d.view(2, 4)\n",
    "print(tensor_view.shape)\n",
    "print(tensor_view)"
   ]
  },
  {
   "cell_type": "markdown",
   "id": "5fa0fdeb",
   "metadata": {},
   "source": [
    "可以看到，view和reshape方法是类似的，不过view要求tensor在内存上是连续的："
   ]
  },
  {
   "cell_type": "code",
   "execution_count": 25,
   "id": "4628ecdf",
   "metadata": {},
   "outputs": [
    {
     "name": "stdout",
     "output_type": "stream",
     "text": [
      "tensor_3d is contiguous\n"
     ]
    }
   ],
   "source": [
    "if tensor_3d.is_contiguous():\n",
    "    print(f\"tensor_3d is contiguous\")\n",
    "    new_tensor = tensor_3d.view(2, 4)\n",
    "else:\n",
    "    print(f\"tensor_ds is not contiguous\")\n",
    "    new_tensor = tensor_3d.reshape(2, 4)"
   ]
  },
  {
   "cell_type": "markdown",
   "id": "54f13e38",
   "metadata": {},
   "source": [
    "张量的转置："
   ]
  },
  {
   "cell_type": "code",
   "execution_count": 27,
   "id": "332d0049",
   "metadata": {},
   "outputs": [
    {
     "data": {
      "text/plain": [
       "tensor([[1, 3],\n",
       "        [2, 4]])"
      ]
     },
     "execution_count": 27,
     "metadata": {},
     "output_type": "execute_result"
    }
   ],
   "source": [
    "tensor_2d_transposed = tensor_2d.T\n",
    "tensor_2d_transposed"
   ]
  },
  {
   "cell_type": "code",
   "execution_count": 32,
   "id": "fd0d15f4",
   "metadata": {},
   "outputs": [
    {
     "name": "stdout",
     "output_type": "stream",
     "text": [
      "转置前的tensor_3d：\n",
      "tensor([[[1, 2],\n",
      "         [3, 4]],\n",
      "\n",
      "        [[5, 6],\n",
      "         [7, 8]]])\n",
      "转置后的tensor_3d：\n",
      "tensor([[[1, 3],\n",
      "         [2, 4]],\n",
      "\n",
      "        [[5, 7],\n",
      "         [6, 8]]])\n"
     ]
    }
   ],
   "source": [
    "print(f\"转置前的tensor_3d：\\n{tensor_3d}\")\n",
    "tensor_3d_transposed = tensor_3d.transpose(1, 2)\n",
    "print(f\"转置后的tensor_3d：\\n{tensor_3d_transposed}\")"
   ]
  },
  {
   "cell_type": "markdown",
   "id": "a06683fe",
   "metadata": {},
   "source": [
    "需要注意的是，转置后的张量往往不再是连续存储了的："
   ]
  },
  {
   "cell_type": "code",
   "execution_count": 34,
   "id": "668abd1c",
   "metadata": {},
   "outputs": [
    {
     "data": {
      "text/plain": [
       "False"
      ]
     },
     "execution_count": 34,
     "metadata": {},
     "output_type": "execute_result"
    }
   ],
   "source": [
    "tensor_3d_transposed.is_contiguous()"
   ]
  },
  {
   "cell_type": "code",
   "execution_count": 35,
   "id": "a0e6bdfc",
   "metadata": {},
   "outputs": [
    {
     "data": {
      "text/plain": [
       "False"
      ]
     },
     "execution_count": 35,
     "metadata": {},
     "output_type": "execute_result"
    }
   ],
   "source": [
    "tensor_2d_transposed.is_contiguous()"
   ]
  },
  {
   "cell_type": "markdown",
   "id": "418952fb",
   "metadata": {},
   "source": [
    "如果要让张量重新变为连续的，可以使用contiguous方法："
   ]
  },
  {
   "cell_type": "code",
   "execution_count": 38,
   "id": "bcfc604d",
   "metadata": {},
   "outputs": [
    {
     "data": {
      "text/plain": [
       "True"
      ]
     },
     "execution_count": 38,
     "metadata": {},
     "output_type": "execute_result"
    }
   ],
   "source": [
    "tensor_2d_transposed.contiguous().is_contiguous()"
   ]
  },
  {
   "cell_type": "code",
   "execution_count": 39,
   "id": "c36c9531",
   "metadata": {},
   "outputs": [
    {
     "data": {
      "text/plain": [
       "True"
      ]
     },
     "execution_count": 39,
     "metadata": {},
     "output_type": "execute_result"
    }
   ],
   "source": [
    "tensor_3d_transposed.contiguous().is_contiguous()"
   ]
  },
  {
   "cell_type": "markdown",
   "id": "a2365c12",
   "metadata": {},
   "source": [
    "最后常用的张量操作就是矩阵乘法："
   ]
  },
  {
   "cell_type": "code",
   "execution_count": 44,
   "id": "0411b561",
   "metadata": {},
   "outputs": [
    {
     "data": {
      "text/plain": [
       "tensor([[14., 20.],\n",
       "        [30., 44.]])"
      ]
     },
     "execution_count": 44,
     "metadata": {},
     "output_type": "execute_result"
    }
   ],
   "source": [
    "W_2d = torch.tensor([1., 2., 3., 4.]).view(2, 2)\n",
    "X_2d = torch.tensor([2., 4., 6. ,8.]).view(2, 2)\n",
    "Y_2d = W_2d @ X_2d\n",
    "Y_2d"
   ]
  },
  {
   "cell_type": "code",
   "execution_count": 45,
   "id": "182479a1",
   "metadata": {},
   "outputs": [
    {
     "data": {
      "text/plain": [
       "tensor([[[14., 20.],\n",
       "         [30., 44.]]])"
      ]
     },
     "execution_count": 45,
     "metadata": {},
     "output_type": "execute_result"
    }
   ],
   "source": [
    "W_3d = torch.tensor([1., 2., 3., 4.]).view(1, 2, 2)\n",
    "X_3d = torch.tensor([2., 4., 6. ,8.]).view(1, 2, 2)\n",
    "Y_3d = W_3d @ X_3d\n",
    "Y_3d"
   ]
  },
  {
   "cell_type": "markdown",
   "id": "417e757a",
   "metadata": {},
   "source": [
    "与“@”运算符等价的是matmul方法："
   ]
  },
  {
   "cell_type": "code",
   "execution_count": 46,
   "id": "5d9b2665",
   "metadata": {},
   "outputs": [
    {
     "data": {
      "text/plain": [
       "tensor([[[14., 20.],\n",
       "         [30., 44.]]])"
      ]
     },
     "execution_count": 46,
     "metadata": {},
     "output_type": "execute_result"
    }
   ],
   "source": [
    "W_2d = torch.tensor([1., 2., 3., 4.]).view(2, 2)\n",
    "X_2d = torch.tensor([2., 4., 6. ,8.]).view(2, 2)\n",
    "Y_2d = torch.matmul(W_2d, X_2d)\n",
    "Y_3d"
   ]
  },
  {
   "cell_type": "markdown",
   "id": "57c773d1",
   "metadata": {},
   "source": [
    "# 3. 将模型视为计算图"
   ]
  },
  {
   "cell_type": "markdown",
   "id": "8addc3ac",
   "metadata": {},
   "source": [
    "首先，我们需要顶一个简单的神经网络作为需要展开为计算图的示例："
   ]
  },
  {
   "cell_type": "code",
   "execution_count": 85,
   "id": "b7c42f86",
   "metadata": {},
   "outputs": [],
   "source": [
    "from torch import nn\n",
    "\n",
    "class SimpleNet(nn.Module):\n",
    "    def __init__(self):\n",
    "        super().__init__()\n",
    "        self.FC = nn.Linear(1, 1, bias=True)\n",
    "        self.ACT = torch.sigmoid\n",
    "\n",
    "    def forward(self, x):\n",
    "        y = self.FC(x)\n",
    "        a = self.ACT(y)\n",
    "        return a\n",
    "\n",
    "model = SimpleNet()\n",
    "\n",
    "# 创建示例输入（注意：需要 requires_grad=False 或者不设置，因为主要是看前向计算图）\n",
    "example_input = torch.randn(1, 1)\n",
    "\n",
    "# 执行前向传播\n",
    "output = model(example_input)\n"
   ]
  },
  {
   "cell_type": "markdown",
   "id": "208bb7e3",
   "metadata": {},
   "source": [
    "## 3.1 使用ONNX可视化计算图"
   ]
  },
  {
   "cell_type": "markdown",
   "id": "d720c5f5",
   "metadata": {},
   "source": [
    "然后，我们还要下载安装用来可视化计算图的ONNX及其依赖："
   ]
  },
  {
   "cell_type": "code",
   "execution_count": 75,
   "id": "d82e111d",
   "metadata": {},
   "outputs": [],
   "source": [
    "!pip install --quiet onnx pydot"
   ]
  },
  {
   "cell_type": "markdown",
   "id": "6434f731",
   "metadata": {},
   "source": [
    "现在，就可以使用ONNX来可视化刚刚创建的那个示例网络了："
   ]
  },
  {
   "cell_type": "code",
   "execution_count": 86,
   "id": "d49e5222",
   "metadata": {},
   "outputs": [
    {
     "data": {
      "image/png": "[encoded data removed]",
      "text/plain": [
       "<IPython.core.display.Image object>"
      ]
     },
     "execution_count": 86,
     "metadata": {},
     "output_type": "execute_result"
    }
   ],
   "source": [
    "from IPython.display import Image\n",
    "from onnx.tools.net_drawer import GetPydotGraph\n",
    "import onnx\n",
    "\n",
    "# 导出为ONNX\n",
    "torch.onnx.export(\n",
    "    model, \n",
    "    example_input, \n",
    "    \"model.onnx\", \n",
    "    input_names=['input'], \n",
    "    output_names=['output']\n",
    ")\n",
    "\n",
    "# 加载ONNX模型并可视化\n",
    "onnx_model = onnx.load(\"model.onnx\")\n",
    "graph = GetPydotGraph(\n",
    "    onnx_model.graph,\n",
    "    name=onnx_model.graph.name\n",
    ")\n",
    "graph.write_png(\"onnx_graph.png\")\n",
    "\n",
    "# 打开刚刚的保存的计算图图片\n",
    "Image(filename=\"onnx_graph.png\")"
   ]
  },
  {
   "cell_type": "markdown",
   "id": "121e0bd4",
   "metadata": {},
   "source": [
    "## 3.2 使用TorchViz可视化计算图"
   ]
  },
  {
   "cell_type": "code",
   "execution_count": 211,
   "id": "64000515",
   "metadata": {},
   "outputs": [],
   "source": [
    "!pip install --quiet torchviz"
   ]
  },
  {
   "cell_type": "code",
   "execution_count": 213,
   "id": "1290f783",
   "metadata": {},
   "outputs": [
    {
     "data": {
      "image/png": "[encoded data removed]",
      "text/plain": [
       "<IPython.core.display.Image object>"
      ]
     },
     "execution_count": 213,
     "metadata": {},
     "output_type": "execute_result"
    }
   ],
   "source": [
    "from torchviz import make_dot\n",
    "\n",
    "# 生成计算图\n",
    "# params 参数用于指定要在图中显示的模型参数（权重和偏置）\n",
    "dot = make_dot(output, params=dict(model.named_parameters()))\n",
    "\n",
    "# 保存计算图（默认为PDF格式，清晰且可缩放）\n",
    "dot.render(\"simple_net_computational_graph\", format=\"png\", cleanup=True)  # cleanup=True 会删除中间生成的 .gv 文件\n",
    "\n",
    "# 打开计算图图片\n",
    "Image(filename=\"simple_net_computational_graph.png\")"
   ]
  },
  {
   "cell_type": "markdown",
   "id": "d6a9e1ab",
   "metadata": {},
   "source": [
    "# 4. 轻松实现自动微分"
   ]
  },
  {
   "cell_type": "markdown",
   "id": "aed4cb97",
   "metadata": {},
   "source": [
    "让我们使用一个简单的逻辑回归分类器的前向传播作为计算图的示例：\n",
    "\n",
    "![计算图](computional_graph.png)"
   ]
  },
  {
   "cell_type": "code",
   "execution_count": 107,
   "id": "1dfeff33",
   "metadata": {},
   "outputs": [],
   "source": [
    "import torch.nn.functional as F\n",
    "\n",
    "t = torch.tensor([1.0])\n",
    "x = torch.tensor([1.1])\n",
    "# w和b都是可训练参数，如果不将他们的requires_grad参数设置为True，\n",
    "# 就会出现异常：\n",
    "# RuntimeError: element 0 of tensors does not require grad and does not have a grad_fn\n",
    "w = torch.tensor([2.2], requires_grad=True)\n",
    "b = torch.tensor([0.0], requires_grad=True)\n",
    "z = w * x + b\n",
    "y = torch.sigmoid(z)\n",
    "loss = F.binary_cross_entropy(y, t)"
   ]
  },
  {
   "cell_type": "markdown",
   "id": "ce7b0192",
   "metadata": {},
   "source": [
    "在计算图应用链式法则，计算损失函数对权重和偏置的偏导数：\n",
    "\n",
    "![计算图上的链式法则](backprop.png)"
   ]
  },
  {
   "cell_type": "markdown",
   "id": "61e53f8a",
   "metadata": {},
   "source": [
    "使用PyTroch的autograd可以很方便地计算损失函数对可训练参数的偏导数，即梯度："
   ]
  },
  {
   "cell_type": "code",
   "execution_count": 109,
   "id": "24b5029d",
   "metadata": {},
   "outputs": [
    {
     "name": "stdout",
     "output_type": "stream",
     "text": [
      "grad_loss_w: (tensor([-0.0898]),)\n",
      "grad_loss_b: (tensor([-0.0817]),)\n"
     ]
    }
   ],
   "source": [
    "from torch.autograd import grad\n",
    "\n",
    "grad_loss_w = grad(loss, w, retain_graph=True)\n",
    "grad_loss_b = grad(loss, b, retain_graph=True)\n",
    "print(f\"grad_loss_w: {grad_loss_w}\")\n",
    "print(f\"grad_loss_b: {grad_loss_b}\")"
   ]
  },
  {
   "cell_type": "markdown",
   "id": "fa00b3bd",
   "metadata": {},
   "source": [
    "更方便的做法就是直接在损失函数上调用backward方法，然后在可训练参数上查看对应的grad属性："
   ]
  },
  {
   "cell_type": "code",
   "execution_count": 110,
   "id": "4ed8e364",
   "metadata": {},
   "outputs": [
    {
     "name": "stdout",
     "output_type": "stream",
     "text": [
      "w.grad: tensor([-0.0898])\n",
      "b.grad: tensor([-0.0817])\n"
     ]
    }
   ],
   "source": [
    "loss.backward()\n",
    "print(f\"w.grad: {w.grad}\")\n",
    "print(f\"b.grad: {b.grad}\")"
   ]
  },
  {
   "cell_type": "markdown",
   "id": "9eb6bb71",
   "metadata": {},
   "source": [
    "# 5. 实现多层神经网络"
   ]
  },
  {
   "cell_type": "markdown",
   "id": "22ae08f8",
   "metadata": {},
   "source": [
    "## 5.1 定义网络"
   ]
  },
  {
   "cell_type": "markdown",
   "id": "71fff06d",
   "metadata": {},
   "source": [
    "先定义一个具有两个隐藏层的神经网络："
   ]
  },
  {
   "cell_type": "code",
   "execution_count": 114,
   "id": "c8345556",
   "metadata": {},
   "outputs": [],
   "source": [
    "class MLP(nn.Module):\n",
    "    def __init__(self, num_inputs, num_outputs):\n",
    "        super().__init__()\n",
    "        self.layers = torch.nn.Sequential(\n",
    "            # 第一个隐藏层：\n",
    "            nn.Linear(num_inputs, 30),\n",
    "            nn.ReLU(),\n",
    "\n",
    "            # 第二个隐藏层：\n",
    "            nn.Linear(30, 20),\n",
    "            nn.ReLU(),\n",
    "\n",
    "            # 输出层：\n",
    "            nn.Linear(20, num_outputs),\n",
    "        )\n",
    "\n",
    "    def forward(self, x):\n",
    "        logits = self.layers(x)\n",
    "        return logits"
   ]
  },
  {
   "cell_type": "markdown",
   "id": "e0984e07",
   "metadata": {},
   "source": [
    "实例化模型并浏览模型结构摘要："
   ]
  },
  {
   "cell_type": "code",
   "execution_count": 115,
   "id": "6f9f1af0",
   "metadata": {},
   "outputs": [
    {
     "name": "stdout",
     "output_type": "stream",
     "text": [
      "MLP(\n",
      "  (layers): Sequential(\n",
      "    (0): Linear(in_features=50, out_features=30, bias=True)\n",
      "    (1): ReLU()\n",
      "    (2): Linear(in_features=30, out_features=20, bias=True)\n",
      "    (3): ReLU()\n",
      "    (4): Linear(in_features=20, out_features=3, bias=True)\n",
      "  )\n",
      ")\n"
     ]
    }
   ],
   "source": [
    "model = MLP(50, 3)\n",
    "print(model)"
   ]
  },
  {
   "cell_type": "markdown",
   "id": "1f1f0754",
   "metadata": {},
   "source": [
    "## 5.2 查看模型参数"
   ]
  },
  {
   "cell_type": "markdown",
   "id": "b633b118",
   "metadata": {},
   "source": [
    "查看模型的可训练参数总数："
   ]
  },
  {
   "cell_type": "code",
   "execution_count": null,
   "id": "bbd7dd8d",
   "metadata": {},
   "outputs": [
    {
     "name": "stdout",
     "output_type": "stream",
     "text": [
      "Total nubmer of trainable model parameters: 2213\n"
     ]
    }
   ],
   "source": [
    "num_params = sum(p.numel() for p in model.parameters() if p.requires_grad)  # numel: number of elements\n",
    "print(f\"Total nubmer of trainable model parameters: {num_params}\")"
   ]
  },
  {
   "cell_type": "code",
   "execution_count": null,
   "id": "87b25cb7",
   "metadata": {},
   "outputs": [],
   "source": [
    "ln1 = 50 * 30 + 30 # bias' shape: (1, 30)\n",
    "ln2 = 30 * 20 + 20 # bias' shape: (1, 20)\n",
    "ln3 = 20 * 3 + 3   # bias' shape: (1, 3)\n",
    "total = ln1 + ln2 + ln3\n",
    "assert total == num_params"
   ]
  },
  {
   "cell_type": "markdown",
   "id": "5e973c8c",
   "metadata": {},
   "source": [
    "另外，可以使用model的named_parameters方法来查各层的参数："
   ]
  },
  {
   "cell_type": "code",
   "execution_count": null,
   "id": "0246955c",
   "metadata": {},
   "outputs": [
    {
     "name": "stdout",
     "output_type": "stream",
     "text": [
      "the 0th layer:\n",
      "weight's shape: torch.Size([30, 50])\n",
      "bias's shape: torch.Size([30])\n",
      "--------------------------------------------------\n",
      "the 2th layer:\n",
      "weight's shape: torch.Size([20, 30])\n",
      "bias's shape: torch.Size([20])\n",
      "--------------------------------------------------\n",
      "the 4th layer:\n",
      "weight's shape: torch.Size([3, 20])\n",
      "bias's shape: torch.Size([3])\n",
      "--------------------------------------------------\n"
     ]
    }
   ],
   "source": [
    "layers = {} # dict of dict\n",
    "\n",
    "for n, p in model.named_parameters():\n",
    "    idx = int(n.split(\".\")[1])\n",
    "    if not layers.get(idx):\n",
    "        layers[idx] = {}\n",
    "    layers[idx][n.split(\".\")[-1]] = p\n",
    "\n",
    "for idx, params in layers.items():\n",
    "    print(f\"the {idx}th layer:\")\n",
    "    for k, v in params.items():\n",
    "        print(f\"{k}'s shape: {v.shape}\")\n",
    "    print(\"-\" * 50)\n"
   ]
  },
  {
   "cell_type": "markdown",
   "id": "80dd6b9a",
   "metadata": {},
   "source": [
    "这里值得注意的地方就是，从打印出来的第0层参数“weight's shape: torch.Size([30, 50])”可以看到，该权重与我们定义网络的时候的不一样：“nn.Linear(50, 30)”，由此，可以初步认为在PyTorch的线性层中，输出是这样计算的：`output = input @ weight.T + bias`。"
   ]
  },
  {
   "cell_type": "markdown",
   "id": "2325822b",
   "metadata": {},
   "source": [
    "另一方面，网络各层的参数都是被随机初始化的，如果要确保每次实例化网络时都有相同的参数，可以："
   ]
  },
  {
   "cell_type": "code",
   "execution_count": 137,
   "id": "439112a9",
   "metadata": {},
   "outputs": [
    {
     "data": {
      "text/plain": [
       "Parameter containing:\n",
       "tensor([[ 0.0044, -0.2130, -0.0503, -0.1085,  0.2190,  0.1592,  0.1668,  0.1531,\n",
       "         -0.1386, -0.0960, -0.0875, -0.0896,  0.1741,  0.0760,  0.1792, -0.0105,\n",
       "         -0.1993, -0.0649,  0.1571,  0.1361],\n",
       "        [ 0.0692, -0.0656, -0.2087, -0.1201,  0.1166, -0.0902,  0.1070,  0.0611,\n",
       "         -0.0859,  0.1362, -0.0719, -0.0074, -0.0852, -0.2121,  0.0361,  0.0646,\n",
       "         -0.1126,  0.1372, -0.2006, -0.2156],\n",
       "        [-0.1381, -0.0773, -0.0248, -0.0432,  0.1021, -0.1962,  0.0329,  0.0039,\n",
       "          0.0591,  0.2223,  0.1376, -0.1238, -0.1832, -0.0541, -0.1122,  0.0781,\n",
       "          0.0020,  0.1799,  0.0878, -0.0411]], requires_grad=True)"
      ]
     },
     "execution_count": 137,
     "metadata": {},
     "output_type": "execute_result"
    }
   ],
   "source": [
    "torch.manual_seed(42)\n",
    "model = MLP(50, 3)\n",
    "model.layers[4].weight"
   ]
  },
  {
   "cell_type": "markdown",
   "id": "1e392feb",
   "metadata": {},
   "source": [
    "可以看到，重复运行上面的Block都会得到相同的输出。"
   ]
  },
  {
   "cell_type": "markdown",
   "id": "adc22da1",
   "metadata": {},
   "source": [
    "## 5.3 前向传播"
   ]
  },
  {
   "cell_type": "code",
   "execution_count": 139,
   "id": "9e03a99e",
   "metadata": {},
   "outputs": [
    {
     "data": {
      "text/plain": [
       "tensor([[ 0.1285, -0.0907, -0.0454]], grad_fn=<AddmmBackward0>)"
      ]
     },
     "execution_count": 139,
     "metadata": {},
     "output_type": "execute_result"
    }
   ],
   "source": [
    "torch.manual_seed(42)\n",
    "model = MLP(50, 3)\n",
    "x = torch.randn((1, 50))  # batch size = 1\n",
    "y = model(x)\n",
    "assert y.shape == (x.shape[0], 3)\n",
    "y"
   ]
  },
  {
   "cell_type": "markdown",
   "id": "30411e7e",
   "metadata": {},
   "source": [
    "这里，`grad_fn=<AddmmBackward0>`表示计算图中用于计算某个变量的最后一个函数。具体来说，`grad_fn=<AddmmBackward0>`意味着我们正在查看的张量是通过矩阵乘法和加法操作创建的。PyTorch会在反向传播期间使用这些信息来计算梯度。`grad_fn=<AddmmBackward0>`中的`<AddmmBackward0>`指定了执行的操作。在这种情况下，它执行的是一个Addmm操作。Addmm代表的是矩阵乘法(mm)后接加法(Add)的组合运算。"
   ]
  },
  {
   "cell_type": "markdown",
   "id": "19ce0361",
   "metadata": {},
   "source": [
    "如果只想使用网络进行预测而不进行训练或反向传播（比如在训练之后使用它进行预测），那么为反向传播构建这个计算图可能会浪费资源，因为它会执行不必要的计算并消耗额外的内存。因此，当使用模型进行推理（比如做出预测）而不是训练时，最好的做法是使用torch.no_grad()上下文管理器。这会告诉PyTorch无须跟踪梯度，从而可以显著节省内存和计算资源："
   ]
  },
  {
   "cell_type": "code",
   "execution_count": 140,
   "id": "2fcef31a",
   "metadata": {},
   "outputs": [
    {
     "data": {
      "text/plain": [
       "tensor([[ 0.1285, -0.0907, -0.0454]])"
      ]
     },
     "execution_count": 140,
     "metadata": {},
     "output_type": "execute_result"
    }
   ],
   "source": [
    "with torch.no_grad():\n",
    "    y = model(x)\n",
    "y"
   ]
  },
  {
   "cell_type": "markdown",
   "id": "5bb346fd",
   "metadata": {},
   "source": [
    "PyTorch中，通常的做法是让模型返回最后一层的输出(logits)，而不将这些输出传递给非线性激活函数（例如二分类的sigmoid函数和多分类的softmax函数）。这是因为PyTorch常用的损失函数会将softmax（或二分类时的sigmoid）操作与负对数似然损失结合在一个类中。这样做是为了提高数值计算的效率和稳定性。因此，在训练代码中不需要手动添加softmax或者sigmoid等激活函数，但如果是想为预测结果计算类别成员概率，那么就需要显式调用softmax函数："
   ]
  },
  {
   "cell_type": "code",
   "execution_count": 143,
   "id": "5c5664da",
   "metadata": {},
   "outputs": [
    {
     "data": {
      "text/plain": [
       "tensor([[0.3783, 0.3038, 0.3179]])"
      ]
     },
     "execution_count": 143,
     "metadata": {},
     "output_type": "execute_result"
    }
   ],
   "source": [
    "with torch.no_grad():\n",
    "    y = model(x)\n",
    "    z = torch.softmax(y, dim=1)\n",
    "assert z.sum().item() == 1  # 三分类的预测概率之和为1\n",
    "z"
   ]
  },
  {
   "cell_type": "markdown",
   "id": "668277c0",
   "metadata": {},
   "source": [
    "# 6. 设置高效的数据加载器"
   ]
  },
  {
   "cell_type": "markdown",
   "id": "65f2540e",
   "metadata": {},
   "source": [
    "在PyTorch中创建数据加载器的主要思路如下图所示：\n",
    "\n",
    "![构建数据加载器](building_data_loader.png)"
   ]
  },
  {
   "cell_type": "markdown",
   "id": "86a3b7c1",
   "metadata": {},
   "source": [
    "## 6.1 创建数据集"
   ]
  },
  {
   "cell_type": "code",
   "execution_count": 148,
   "id": "41d5e216",
   "metadata": {},
   "outputs": [],
   "source": [
    "X_train = torch.tensor([\n",
    "    [-1.2, 3.1],\n",
    "    [-0.9, 2.9],\n",
    "    [-0.5, 2.6],\n",
    "    [2.3, -1.1],\n",
    "    [2.7, -1.5]\n",
    "])\n",
    "t_train = torch.tensor([0, 0, 0, 1, 1])\n",
    "\n",
    "X_test = torch.tensor([\n",
    "    [-0.8, 2.8],\n",
    "    [2.6, -1.6],\n",
    "])\n",
    "t_test = torch.tensor([0, 1])"
   ]
  },
  {
   "cell_type": "code",
   "execution_count": 147,
   "id": "f1fff089",
   "metadata": {},
   "outputs": [],
   "source": [
    "from torch.utils.data import Dataset\n",
    "\n",
    "class ToyDataset(Dataset):\n",
    "    def __init__(self, x, t):\n",
    "        self.features = x\n",
    "        self.targets = t\n",
    "\n",
    "    def __getitem__(self, index):\n",
    "        \"\"\" 按索引返回数据集的单个样本 \"\"\"\n",
    "        feature = self.features[index]\n",
    "        target = self.targets[index]\n",
    "        return feature, target\n",
    "\n",
    "    def __len__(self):\n",
    "        return self.targets.shape[0]"
   ]
  },
  {
   "cell_type": "code",
   "execution_count": 149,
   "id": "7f6dba9c",
   "metadata": {},
   "outputs": [],
   "source": [
    "train_ds = ToyDataset(X_train, t_train)\n",
    "test_ds = ToyDataset(X_test, t_test)"
   ]
  },
  {
   "cell_type": "markdown",
   "id": "4873a3dd",
   "metadata": {},
   "source": [
    "## 6.2 创建数据加载器"
   ]
  },
  {
   "cell_type": "code",
   "execution_count": 151,
   "id": "00aca504",
   "metadata": {},
   "outputs": [
    {
     "data": {
      "text/plain": [
       "<torch._C.Generator at 0x10b541410>"
      ]
     },
     "execution_count": 151,
     "metadata": {},
     "output_type": "execute_result"
    }
   ],
   "source": [
    "random_seed = 42\n",
    "batch_size = 2\n",
    "num_workers = 0\n",
    "\n",
    "torch.manual_seed(random_seed)"
   ]
  },
  {
   "cell_type": "code",
   "execution_count": 214,
   "id": "28e740de",
   "metadata": {},
   "outputs": [],
   "source": [
    "from torch.utils.data import DataLoader\n",
    "\n",
    "train_loader = DataLoader(\n",
    "    dataset=train_ds,\n",
    "    batch_size=batch_size,\n",
    "    shuffle=True,\n",
    "    num_workers=num_workers\n",
    ")\n",
    "\n",
    "test_loader = DataLoader(\n",
    "    dataset=test_ds,\n",
    "    batch_size=batch_size,\n",
    "    shuffle=False,  # 测试数据无需打乱\n",
    "    num_workers=num_workers\n",
    ")"
   ]
  },
  {
   "cell_type": "markdown",
   "id": "cdf00fb6",
   "metadata": {},
   "source": [
    "为什么需要打乱训练集的数据：\n",
    "- 如果数据有特定顺序（如按类别排序），模型可能会\"记住\"这个顺序；\n",
    "- 打乱确保每个batch都包含多样化的样本；\n",
    "- 这有助于模型更好地泛化。"
   ]
  },
  {
   "cell_type": "markdown",
   "id": "68dd91f6",
   "metadata": {},
   "source": [
    "接下来，就可以迭代数据集了："
   ]
  },
  {
   "cell_type": "code",
   "execution_count": 165,
   "id": "f2de8a9c",
   "metadata": {},
   "outputs": [
    {
     "name": "stdout",
     "output_type": "stream",
     "text": [
      "batch0: \n",
      "x: tensor([[ 2.3000, -1.1000],\n",
      "        [ 2.7000, -1.5000]]), \n",
      "t: tensor([1, 1])\n",
      "\n",
      "batch1: \n",
      "x: tensor([[-1.2000,  3.1000],\n",
      "        [-0.9000,  2.9000]]), \n",
      "t: tensor([0, 0])\n",
      "\n",
      "batch2: \n",
      "x: tensor([[-0.5000,  2.6000]]), \n",
      "t: tensor([0])\n",
      "\n"
     ]
    }
   ],
   "source": [
    "for idx, (x, t) in enumerate(train_loader):\n",
    "    print(f\"batch{idx}: \\nx: {x}, \\nt: {t}\\n\")"
   ]
  },
  {
   "cell_type": "markdown",
   "id": "c28b12d6",
   "metadata": {},
   "source": [
    "可以看到，每个训练样本（样例）正好都被访问了一次，这称为一个训练Epoch。"
   ]
  },
  {
   "cell_type": "markdown",
   "id": "697e03cb",
   "metadata": {},
   "source": [
    "另外，在实际训练网络时，如果训练集中的最后一个批次的大小显著小于其他批次，那么就有可能会影响训练的收敛。所以，可以在实例化数据加载器的时候Enable drop_last："
   ]
  },
  {
   "cell_type": "code",
   "execution_count": null,
   "id": "2b706a9d",
   "metadata": {},
   "outputs": [
    {
     "name": "stdout",
     "output_type": "stream",
     "text": [
      "batch0: \n",
      "x: tensor([[ 2.7000, -1.5000],\n",
      "        [-1.2000,  3.1000]]), \n",
      "t: tensor([1, 0])\n",
      "\n",
      "batch1: \n",
      "x: tensor([[-0.9000,  2.9000],\n",
      "        [-0.5000,  2.6000]]), \n",
      "t: tensor([0, 0])\n",
      "\n"
     ]
    }
   ],
   "source": [
    "train_loader = DataLoader(\n",
    "    dataset=train_ds,\n",
    "    batch_size=batch_size,\n",
    "    shuffle=True,\n",
    "    num_workers=num_workers,  \n",
    "    drop_last=True\n",
    ")\n",
    "\n",
    "for idx, (x, t) in enumerate(train_loader):\n",
    "    print(f\"batch{idx}: \\nx: {x}, \\nt: {t}\\n\")"
   ]
  },
  {
   "cell_type": "markdown",
   "id": "ef23baf8",
   "metadata": {},
   "source": [
    "最后，我们来讨论DataLoader中的num_workers=0设置。\n",
    "\n",
    "这个参数在PyTorch的DataLoader函数中对于并行加载和预处理数据至关重要。当num_workers设置为0时，数据加载将在主进程而不是单独的工作进程中进行。这看起来似乎没有问题，但在使用GPU训练较大的网络时，这可能会导致模型训练显著减慢。这是因为CPU不仅要处理深度学习模型，还要花时间加载和预处理数据。因此，GPU在等待CPU完成这些任务时可能会闲置。相反，当num_workers设置为大于0的数值时，会启动多个工作进程并行加载数据，从而释放主进程专注于训练模型，并更好地利用系统资源。\n",
    "\n",
    "然而，如果你处理的是非常小的数据集，那么可能并不需要将num_workers设置为1或更大的数值，因为总训练时间只需几秒。因此，如果你使用的是小型数据集或交互式环境（如Jupyter Notebook），那么增加num_workers可能不会显著提高速度，反而会导致一些问题。一个潜在的问题是，启动多个工作进程的开销可能会比实际数据加载所需的时间更长，尤其是数据集很小的时候。\n",
    "\n",
    "此外，对于Jupyter Notebook，将num_workers设置为大于0有时可能会导致不同进程之间资源共享的问题，从而引发错误或导致笔记本崩溃。\n",
    "\n",
    "因此，理解这种权衡并对num_workers参数进行合理设置是非常重要的。如果使用得当，这可以成为一个有益的工具，但应根据你的特定数据集大小和计算环境进行调整，以获得最佳效果。\n",
    "\n",
    "根据书作者的经验，设置num_workers=4通常会在许多真实世界数据集上获得最佳性能，但最佳设置取决于你的硬件和用于加载Dataset类中训练示例的代码。"
   ]
  },
  {
   "cell_type": "markdown",
   "id": "5abe5d48",
   "metadata": {},
   "source": [
    "# 7. 典型的训练循环"
   ]
  },
  {
   "cell_type": "markdown",
   "id": "60462b73",
   "metadata": {},
   "source": [
    "## 7.1 训练"
   ]
  },
  {
   "cell_type": "markdown",
   "id": "7b7cdf88",
   "metadata": {},
   "source": [
    "现在，让我们使用之前的训练数据来训练MLP。一个使用PyTorch的典型训练循环代码模板如下所示："
   ]
  },
  {
   "cell_type": "code",
   "execution_count": null,
   "id": "59ef23d6",
   "metadata": {},
   "outputs": [
    {
     "name": "stdout",
     "output_type": "stream",
     "text": [
      "Epoch: 000/003 | Batch 000/002 | Train Loss: 0.61\n",
      "Epoch: 000/003 | Batch 001/002 | Train Loss: 0.35\n",
      "Epoch: 001/003 | Batch 000/002 | Train Loss: 0.20\n",
      "Epoch: 001/003 | Batch 001/002 | Train Loss: 0.08\n",
      "Epoch: 002/003 | Batch 000/002 | Train Loss: 0.03\n",
      "Epoch: 002/003 | Batch 001/002 | Train Loss: 0.01\n"
     ]
    }
   ],
   "source": [
    "import torch.nn.functional as F\n",
    "\n",
    "torch.manual_seed(42)\n",
    "num_epochs = 3\n",
    "\n",
    "model = MLP(num_inputs=2, num_outputs=2)  # 之前的训练集有两个特征，两个类别\n",
    "optimizer = torch.optim.SGD(model.parameters(), lr=0.5)  # 优化器需要知道模型中的那些参数需要优化\n",
    "\n",
    "for epoch in range(num_epochs):\n",
    "    model.train()\n",
    "    for batch_idx, (x, t) in enumerate(train_loader):\n",
    "        # 前向传播：\n",
    "        y = model(x)  # logits = model(x)\n",
    "        loss = F.cross_entropy(y, t)\n",
    "        # 反向传播：\n",
    "        optimizer.zero_grad()  # 将上一轮的梯度清0，以防止以外的梯度累积\n",
    "        loss.backward()\n",
    "        optimizer.step()\n",
    "        # 打印日志：\n",
    "        print(\n",
    "            f\"Epoch: {epoch:03d}/{num_epochs:03d} | \"\n",
    "            f\"Batch {batch_idx:03d}/{len(train_loader):03d} | \"\n",
    "            f\"Train Loss: {loss:.2f}\"\n",
    "        )\n",
    "        # 插入可选地评测代码：\n",
    "        model.eval()"
   ]
  },
  {
   "cell_type": "markdown",
   "id": "c41cd252",
   "metadata": {},
   "source": [
    "我们引入了新的设置：model.train()和model.eval()。顾名思义，这些设置用于将模型置于训练模式或评估模式。这对于在训练和推断过程中具有不同行为的组件（如dropout或批归一化层）是必要的。\n",
    "\n",
    "正如之前讨论的那样，我们直接将y传递给cross_entropy损失函数，后者会在内部应用softmax函数，以提高效率并增强数值稳定性。\n",
    "\n",
    "接下来，调用loss.backward()会计算由PyTorch在后台构建的计算图中的梯度。optimizer.step()方法会利用这些梯度来更新模型参数以最小化损失。对SGD优化器而言，这意味着将梯度与学习率相乘，然后将缩放后的负梯度加到参数上。\n",
    "\n",
    "注意　为了避免不必要的梯度累积，确保在每次更新中调用optimizer.zero_grad()来将梯度重置为0，这很重要。否则，梯度会逐渐累积起来，这往往是我们不愿意见到的。"
   ]
  },
  {
   "cell_type": "markdown",
   "id": "c0d3d4d1",
   "metadata": {},
   "source": [
    "## 7.2 预测"
   ]
  },
  {
   "cell_type": "markdown",
   "id": "4a451748",
   "metadata": {},
   "source": [
    "模型训练好之后，就可以用它来预测："
   ]
  },
  {
   "cell_type": "code",
   "execution_count": 171,
   "id": "c01ca485",
   "metadata": {},
   "outputs": [
    {
     "data": {
      "text/plain": [
       "tensor([[ 2.5247, -2.3698],\n",
       "        [ 2.3828, -2.2251],\n",
       "        [ 2.1684, -2.0081],\n",
       "        [-2.0328,  2.1993],\n",
       "        [-2.4188,  2.5964]])"
      ]
     },
     "execution_count": 171,
     "metadata": {},
     "output_type": "execute_result"
    }
   ],
   "source": [
    "with torch.no_grad():\n",
    "    y_train = model(X_train)\n",
    "y_train"
   ]
  },
  {
   "cell_type": "markdown",
   "id": "f03ccc72",
   "metadata": {},
   "source": [
    "将预测的logits（即上面的y_train）转换为概率："
   ]
  },
  {
   "cell_type": "code",
   "execution_count": 172,
   "id": "c7ab65a8",
   "metadata": {},
   "outputs": [
    {
     "data": {
      "text/plain": [
       "tensor([[0.9926, 0.0074],\n",
       "        [0.9901, 0.0099],\n",
       "        [0.9849, 0.0151],\n",
       "        [0.0143, 0.9857],\n",
       "        [0.0066, 0.9934]])"
      ]
     },
     "execution_count": 172,
     "metadata": {},
     "output_type": "execute_result"
    }
   ],
   "source": [
    "probs = torch.softmax(y_train, dim=-1)\n",
    "probs"
   ]
  },
  {
   "cell_type": "markdown",
   "id": "c825e528",
   "metadata": {},
   "source": [
    "再将预测的概率转换为类别标签："
   ]
  },
  {
   "cell_type": "code",
   "execution_count": 173,
   "id": "4eae1977",
   "metadata": {},
   "outputs": [
    {
     "data": {
      "text/plain": [
       "tensor([0, 0, 0, 1, 1])"
      ]
     },
     "execution_count": 173,
     "metadata": {},
     "output_type": "execute_result"
    }
   ],
   "source": [
    "preds = probs.argmax(dim=-1)\n",
    "preds"
   ]
  },
  {
   "cell_type": "code",
   "execution_count": 175,
   "id": "422d07e3",
   "metadata": {},
   "outputs": [
    {
     "data": {
      "text/plain": [
       "tensor([True, True, True, True, True])"
      ]
     },
     "execution_count": 175,
     "metadata": {},
     "output_type": "execute_result"
    }
   ],
   "source": [
    "preds == t_train"
   ]
  },
  {
   "cell_type": "markdown",
   "id": "392bd174",
   "metadata": {},
   "source": [
    "使用torch.sum来计算预测准确率："
   ]
  },
  {
   "cell_type": "code",
   "execution_count": 191,
   "id": "39ac5385",
   "metadata": {},
   "outputs": [
    {
     "data": {
      "text/plain": [
       "1.0"
      ]
     },
     "execution_count": 191,
     "metadata": {},
     "output_type": "execute_result"
    }
   ],
   "source": [
    "acc = torch.sum(preds == t_train) / len(preds)\n",
    "acc.item()"
   ]
  },
  {
   "cell_type": "markdown",
   "id": "d54759c0",
   "metadata": {},
   "source": [
    "将刚才计算准确率的逻辑封装为函数："
   ]
  },
  {
   "cell_type": "code",
   "execution_count": 195,
   "id": "1bec61ee",
   "metadata": {},
   "outputs": [],
   "source": [
    "def compute_accuracy(model, dataloader):\n",
    "    correct = 0.0\n",
    "    num_samples = 0\n",
    "\n",
    "    model.eval()\n",
    "    for (x, t) in dataloader:\n",
    "        with torch.no_grad():\n",
    "            logits = model(x)\n",
    "        y = torch.argmax(logits, dim=-1)\n",
    "        compare = y == t\n",
    "        correct += torch.sum(compare)\n",
    "        num_samples += len(compare)  # 注意，是加上当前批次的样本数\n",
    "    \n",
    "    acc = correct / num_samples\n",
    "    return acc.item()"
   ]
  },
  {
   "cell_type": "code",
   "execution_count": 196,
   "id": "a97e28bf",
   "metadata": {},
   "outputs": [
    {
     "data": {
      "text/plain": [
       "1.0"
      ]
     },
     "execution_count": 196,
     "metadata": {},
     "output_type": "execute_result"
    }
   ],
   "source": [
    "acc_train = compute_accuracy(model, train_loader)\n",
    "acc_train"
   ]
  },
  {
   "cell_type": "markdown",
   "id": "fe2d8e55",
   "metadata": {},
   "source": [
    "# 8. 保存和加载模型"
   ]
  },
  {
   "cell_type": "markdown",
   "id": "6cec8cf2",
   "metadata": {},
   "source": [
    "## 8.1 模型的`state_dict`"
   ]
  },
  {
   "cell_type": "markdown",
   "id": "9d7c7de2",
   "metadata": {},
   "source": [
    "模型的`state_dict`是一个Python字典，它保存了模型每一层的可训练参数："
   ]
  },
  {
   "cell_type": "code",
   "execution_count": 199,
   "id": "b6f5daec",
   "metadata": {},
   "outputs": [
    {
     "name": "stdout",
     "output_type": "stream",
     "text": [
      "type of state_dict: <class 'collections.OrderedDict'>\n",
      "state_dict's keys: \n",
      "odict_keys(['layers.0.weight', 'layers.0.bias', 'layers.2.weight', 'layers.2.bias', 'layers.4.weight', 'layers.4.bias'])\n"
     ]
    }
   ],
   "source": [
    "state_dict = model.state_dict()\n",
    "print(f\"type of state_dict: {type(state_dict)}\")\n",
    "print(f\"state_dict's keys: \\n{state_dict.keys()}\")"
   ]
  },
  {
   "cell_type": "code",
   "execution_count": 200,
   "id": "a5618431",
   "metadata": {},
   "outputs": [
    {
     "name": "stdout",
     "output_type": "stream",
     "text": [
      "layers.0.weight: torch.Size([30, 2])\n",
      "layers.0.bias: torch.Size([30])\n",
      "layers.2.weight: torch.Size([20, 30])\n",
      "layers.2.bias: torch.Size([20])\n",
      "layers.4.weight: torch.Size([2, 20])\n",
      "layers.4.bias: torch.Size([2])\n"
     ]
    }
   ],
   "source": [
    "for k, v in state_dict.items():\n",
    "    print(f\"{k}: {v.shape}\")"
   ]
  },
  {
   "cell_type": "markdown",
   "id": "3b065255",
   "metadata": {},
   "source": [
    "## 8.2 保存模型\n",
    "\n",
    "保存模型的本质其实是将模型的`state_dict`持久化到磁盘上："
   ]
  },
  {
   "cell_type": "code",
   "execution_count": 203,
   "id": "454443ac",
   "metadata": {},
   "outputs": [],
   "source": [
    "model_file = \"mlp.pth\"  # “pth”是“PyTorcH”的缩写\n",
    "torch.save(model.state_dict(), model_file)"
   ]
  },
  {
   "cell_type": "code",
   "execution_count": 202,
   "id": "3ffb62b9",
   "metadata": {},
   "outputs": [
    {
     "name": "stdout",
     "output_type": "stream",
     "text": [
      "mlp.pth\n"
     ]
    }
   ],
   "source": [
    "!ls | grep \"mlp.pth\""
   ]
  },
  {
   "cell_type": "markdown",
   "id": "a15f4de7",
   "metadata": {},
   "source": [
    "## 8.3 加载模型"
   ]
  },
  {
   "cell_type": "code",
   "execution_count": 205,
   "id": "e92577d7",
   "metadata": {},
   "outputs": [
    {
     "data": {
      "text/plain": [
       "<All keys matched successfully>"
      ]
     },
     "execution_count": 205,
     "metadata": {},
     "output_type": "execute_result"
    }
   ],
   "source": [
    "new_model = MLP(2, 2)\n",
    "new_state_dict = torch.load(model_file)\n",
    "new_model.load_state_dict(new_state_dict)"
   ]
  }
 ],
 "metadata": {
  "kernelspec": {
   "display_name": "llm",
   "language": "python",
   "name": "python3"
  },
  "language_info": {
   "codemirror_mode": {
    "name": "ipython",
    "version": 3
   },
   "file_extension": ".py",
   "mimetype": "text/x-python",
   "name": "python",
   "nbconvert_exporter": "python",
   "pygments_lexer": "ipython3",
   "version": "3.12.10"
  }
 },
 "nbformat": 4,
 "nbformat_minor": 5
}
